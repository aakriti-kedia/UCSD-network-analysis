{
 "cells": [
  {
   "cell_type": "code",
   "execution_count": 4,
   "metadata": {},
   "outputs": [],
   "source": [
    "import pandas as pd\n",
    "import numpy as np\n",
    "from scipy import stats as st\n",
    "import matplotlib.pyplot as plt"
   ]
  },
  {
   "cell_type": "code",
   "execution_count": 5,
   "metadata": {},
   "outputs": [],
   "source": [
    "OUTPUT_DIR = '../output'\n",
    "OUTPUT_CSV_DIR = f'{OUTPUT_DIR}/csv'\n",
    "OUTPUT_GRAPHS_DIR = f'{OUTPUT_DIR}/graphs'\n",
    "\n",
    "raw_data_csv = f'latest-output'\n",
    "cleaned_data_csv = f'cleaned-{raw_data_csv}-2'\n",
    "outliers_data_csv = f'outliers-{raw_data_csv}-2'\n",
    "\n",
    "raw_data_csv_filepath = f'{OUTPUT_CSV_DIR}/{raw_data_csv}.csv'\n",
    "cleaned_data_csv_filepath = f'{OUTPUT_CSV_DIR}/{cleaned_data_csv}.csv'\n",
    "outliers_data_csv_filepath = f'{OUTPUT_CSV_DIR}/{outliers_data_csv}.csv'\n"
   ]
  },
  {
   "cell_type": "code",
   "execution_count": 6,
   "metadata": {},
   "outputs": [],
   "source": [
    "#\n",
    "# clean the data\n",
    "#\n",
    "\n",
    "def _clean_outliers(group, multiplier=3):\n",
    "    # Calculate the first quartile (Q1) and third quartile (Q3)\n",
    "    Q1 = group['Ping Time'].quantile(0.25)\n",
    "    Q3 = group['Ping Time'].quantile(0.75)\n",
    "\n",
    "    # Calculate the interquartile range (IQR)\n",
    "    IQR = Q3 - Q1\n",
    "\n",
    "    # Calculate the lower and upper bounds for outliers\n",
    "    lower_bound = Q1 - (multiplier * IQR)\n",
    "    upper_bound = Q3 + (multiplier * IQR)\n",
    "\n",
    "    # Identify the rows with 'Ping Time' values outside the bounds\n",
    "    outliers = group[(group['Ping Time'] < lower_bound) | (group['Ping Time'] > upper_bound)]\n",
    "\n",
    "    # Remove the rows with outliers\n",
    "    cleaned_group = group[(group['Ping Time'] >= lower_bound) & (group['Ping Time'] <= upper_bound)]\n",
    "\n",
    "    return cleaned_group, outliers\n",
    "\n",
    "def clean_data(input_filename, cleaned_filename, outliers_filename, multiplier):\n",
    "    df = pd.read_csv(input_filename)\n",
    "    df['Ping Time'] = pd.to_numeric(df['Ping Time'], errors='coerce')\n",
    "    groups = df.groupby('From')\n",
    "\n",
    "    # Create empty DataFrames to store the cleaned data and outliers\n",
    "    cleaned_data = pd.DataFrame()\n",
    "    outliers_data = pd.DataFrame()\n",
    "\n",
    "    # Iterate over each group, clean the data, and append to the respective DataFrames\n",
    "    for name, group in groups:\n",
    "        cleaned_group, outliers = _clean_outliers(group, multiplier)\n",
    "        cleaned_data = cleaned_data.append(cleaned_group)\n",
    "        outliers_data = outliers_data.append(outliers)\n",
    "        print(f\"{outliers_data.shape[0]} rows removed in group {name}\")\n",
    "\n",
    "    # Save the cleaned data and outliers to separate CSV files\n",
    "    cleaned_data.to_csv(cleaned_filename, index=False)\n",
    "    outliers_data.to_csv(outliers_filename, index=False)\n",
    "    \n",
    "def create_histogram_per_group(filename, output):\n",
    "    data = pd.read_csv(filename)\n",
    "    \n",
    "    # Group the data by 'From'\n",
    "    grouped_data = data.groupby('From')\n",
    "\n",
    "    # x_min = 0\n",
    "    # x_max = 450\n",
    "    # bin_size = 25\n",
    "    # Plot separate histograms for each group\n",
    "    output_img_dir = output\n",
    "    label_color = \"black\"\n",
    "    for group_name, group_data in grouped_data:\n",
    "        # Extract the 'Ping Time' column for the current group\n",
    "        ping_times = group_data['Ping Time']\n",
    "        \n",
    "        print(f\"Statistics for {group_name}:\")\n",
    "        print(f\"Mean: {np.mean(ping_times)}\")\n",
    "        print(f\"Median: {np.median(ping_times)}\")\n",
    "        print(f\"Standard Deviation: {np.std(ping_times)}\")\n",
    "        print(f\"Variance: {np.var(ping_times)}\")\n",
    "        print(f\"Mode: {st.mode(ping_times)}\")\n",
    "        print(\"\\n\")\n",
    "        \n",
    "        # Plot the histogram for the current group\n",
    "        plt.clf()\n",
    "        plt.hist(ping_times)\n",
    "        plt.xlabel('Ping Time', color=label_color)\n",
    "        plt.ylabel('Frequency', color=label_color)\n",
    "        plt.title(f'Distribution of Ping Time ({group_name})', color=label_color)\n",
    "        plt.tick_params(colors=label_color)\n",
    "        plt.gca().xaxis.set_tick_params(color=label_color)\n",
    "        plt.gca().yaxis.set_tick_params(color=label_color)\n",
    "        \n",
    "        # Set x-axis ticks to integers only\n",
    "        if group_name == \"ping_BA\":\n",
    "            plt.xticks(range(int(min(ping_times)), int(max(ping_times))+1, ))\n",
    "\n",
    "        plt.savefig(f\"{output_img_dir}/hist-{group_name}.png\")"
   ]
  },
  {
   "cell_type": "code",
   "execution_count": 7,
   "metadata": {},
   "outputs": [
    {
     "name": "stdout",
     "output_type": "stream",
     "text": [
      "16 rows removed in group ping_AB\n",
      "31 rows removed in group ping_AC\n",
      "37 rows removed in group ping_BC\n"
     ]
    }
   ],
   "source": [
    "clean_data(raw_data_csv_filepath, cleaned_data_csv_filepath, outliers_data_csv_filepath, multiplier=3)"
   ]
  },
  {
   "cell_type": "code",
   "execution_count": 8,
   "metadata": {},
   "outputs": [
    {
     "name": "stdout",
     "output_type": "stream",
     "text": [
      "Statistics for ping_AB:\n",
      "Mean: 57.451219512195124\n",
      "Median: 58.0\n",
      "Standard Deviation: 12.612890978597777\n",
      "Variance: 159.0850188379932\n",
      "Mode: ModeResult(mode=array([59.]), count=array([46]))\n",
      "\n",
      "\n",
      "Statistics for ping_AC:\n",
      "Mean: 69.13313008130082\n",
      "Median: 60.0\n",
      "Standard Deviation: 35.21951429180359\n",
      "Variance: 1240.4141869505575\n",
      "Mode: ModeResult(mode=array([39.]), count=array([26]))\n",
      "\n",
      "\n",
      "Statistics for ping_BC:\n",
      "Mean: 10.466880566801635\n",
      "Median: 12.216999999999999\n",
      "Standard Deviation: 3.392772644984262\n",
      "Variance: 11.510906220553505\n",
      "Mode: ModeResult(mode=array([12.52]), count=array([5]))\n",
      "\n",
      "\n"
     ]
    },
    {
     "data": {
      "image/png": "[encoded data removed]",
      "text/plain": [
       "<Figure size 432x288 with 1 Axes>"
      ]
     },
     "metadata": {
      "needs_background": "light"
     },
     "output_type": "display_data"
    }
   ],
   "source": [
    "create_histogram_per_group(cleaned_data_csv_filepath, output=OUTPUT_GRAPHS_DIR)"
   ]
  },
  {
   "cell_type": "code",
   "execution_count": null,
   "metadata": {},
   "outputs": [],
   "source": [
    "# make x axis to decimal \n",
    "# note that the graphs are not of the same scale\n"
   ]
  }
 ],
 "metadata": {
  "kernelspec": {
   "display_name": "Python 3",
   "language": "python",
   "name": "python3"
  },
  "language_info": {
   "codemirror_mode": {
    "name": "ipython",
    "version": 3
   },
   "file_extension": ".py",
   "mimetype": "text/x-python",
   "name": "python",
   "nbconvert_exporter": "python",
   "pygments_lexer": "ipython3",
   "version": "3.9.7"
  },
  "orig_nbformat": 4
 },
 "nbformat": 4,
 "nbformat_minor": 2
}
