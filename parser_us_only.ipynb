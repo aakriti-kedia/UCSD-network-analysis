{
 "cells": [
  {
   "cell_type": "code",
   "execution_count": 15,
   "metadata": {},
   "outputs": [],
   "source": [
    "# ripe-atlas measurement-search --search us --type ping --af 4 --started-after 2023-05-01 --ids-only --limit 5200 > measurement_ids_only_US.csv\n",
    "\n",
    "# ripe-atlas measurement-search --search us --type ping --af 4 --started-after 2023-03-01 --status stopped --limit 10000 --ids-only > measurement_ids_only_US.csv"
   ]
  },
  {
   "cell_type": "code",
   "execution_count": 13,
   "metadata": {},
   "outputs": [
    {
     "name": "stdout",
     "output_type": "stream",
     "text": [
      "10000\n"
     ]
    }
   ],
   "source": [
    "ping_measurement_ids = []\n",
    "with open('measurement_ids_only_US.csv') as f:\n",
    "    for line in f:\n",
    "        ping_measurement_ids.append(line.strip())\n",
    "print(len(ping_measurement_ids))"
   ]
  },
  {
   "cell_type": "code",
   "execution_count": 14,
   "metadata": {},
   "outputs": [
    {
     "name": "stderr",
     "output_type": "stream",
     "text": [
      "Processing items: 100%|██████████| 10000/10000 [3:06:02<00:00,  1.12s/it]  \n"
     ]
    }
   ],
   "source": [
    "import csv, subprocess\n",
    "from tqdm import tqdm\n",
    "# dict of set of ips per probe id\n",
    "ip_probes_mapping = {}\n",
    "measurement_id_errors = 0\n",
    "with open('ping_stats_only_US.csv', 'w', newline='') as csvfile:\n",
    "    writer = csv.writer(csvfile)\n",
    "    writer.writerow(['measurement_id', 'src_ip', 'dst_ip', 'bytes', 'times'])\n",
    "\n",
    "    for measurement_id in tqdm(ping_measurement_ids, desc=\"Processing items\"):\n",
    "        try:\n",
    "            command = ['ripe-atlas', 'report', str(measurement_id)]\n",
    "            process = subprocess.Popen(command, stdout=subprocess.PIPE, stderr=subprocess.PIPE, universal_newlines=True)\n",
    "            output, _ = process.communicate()\n",
    "\n",
    "            # Extract source ID, destination ID, and median ping times from output\n",
    "            lines = output.strip().split('\\n')\n",
    "            line_processing_errors = 0\n",
    "\n",
    "            for line in lines[1:]:\n",
    "                try:\n",
    "                    if 'via probe #' in line:\n",
    "                        dest, src = line.split('via probe #')\n",
    "                        src_prb_id, src_ip = src.split()[:2]\n",
    "                        src_ip = src_ip.split('):')[0].strip('(')\n",
    "                        bytes, dst_ip = dest.split('from')\n",
    "                        dst_ip = dst_ip.strip()\n",
    "                        times = line.split('times=')[1].split(', ')\n",
    "                        times = [time for time in times if time != 'None ms']\n",
    "                        if len(times) <= 1:\n",
    "                            continue\n",
    "                        times.sort() # ['0.717 ms', '0.752 ms', '0.773 ms']\n",
    "                        # print(times)\n",
    "                        median_ping = float(times[1].split()[0])  # median\n",
    "\n",
    "                        # Write the data to the CSV file\n",
    "                        writer.writerow([measurement_id, src_ip, dst_ip, bytes, median_ping])\n",
    "                        if src_prb_id in ip_probes_mapping:\n",
    "                            ip_probes_mapping[src_prb_id].add(src_ip)\n",
    "                        else:\n",
    "                            ip_probes_mapping[src_prb_id] = set([src_ip])\n",
    "                except Exception as e:\n",
    "                    print(f\"Error processing line: {line} (Error: {e})\")\n",
    "                    line_processing_errors += 1\n",
    "            if line_processing_errors > 0:\n",
    "                print(f\"Processed measurement ID {measurement_id} with {line_processing_errors} errors out of {len(lines)} lines\")\n",
    "            \n",
    "\n",
    "        except Exception as e:\n",
    "            print(f\"Error processing measurement ID {measurement_id} (Error: {e})\")\n",
    "            measurement_id_errors += 1\n",
    "    if measurement_id_errors > 0:\n",
    "        print(f\"Processed {len(ping_measurement_ids)} measurement IDs with {measurement_id_errors} measurement ID errors\")"
   ]
  },
  {
   "cell_type": "code",
   "execution_count": 16,
   "metadata": {},
   "outputs": [
    {
     "name": "stderr",
     "output_type": "stream",
     "text": [
      "100%|██████████| 8013/8013 [00:00<00:00, 178970.01it/s]"
     ]
    },
    {
     "name": "stdout",
     "output_type": "stream",
     "text": [
      "IP to Probe ID mapping saved to ip_probes_only_US.csv\n"
     ]
    },
    {
     "name": "stderr",
     "output_type": "stream",
     "text": [
      "\n"
     ]
    }
   ],
   "source": [
    "import csv\n",
    "# Save ip_probes_mapping to a CSV file\n",
    "csv_file = 'ip_probes_only_US.csv'\n",
    "with open(csv_file, 'w', newline='') as file:\n",
    "    writer = csv.writer(file)\n",
    "    writer.writerow(['IP Address', 'Probe ID'])\n",
    "    for probe_id, ip_address in tqdm(ip_probes_mapping.items()):\n",
    "        for ip in ip_address:\n",
    "            writer.writerow([ip, probe_id])\n",
    "\n",
    "print(f\"IP to Probe ID mapping saved to {csv_file}\")\n"
   ]
  },
  {
   "cell_type": "markdown",
   "metadata": {},
   "source": [
    "----"
   ]
  },
  {
   "cell_type": "markdown",
   "metadata": {},
   "source": [
    "------"
   ]
  },
  {
   "cell_type": "code",
   "execution_count": 17,
   "metadata": {},
   "outputs": [
    {
     "name": "stderr",
     "output_type": "stream",
     "text": [
      "4212727it [00:07, 598230.83it/s]"
     ]
    },
    {
     "name": "stdout",
     "output_type": "stream",
     "text": [
      "dst_probe_not_found_cnt: 0\n"
     ]
    },
    {
     "name": "stderr",
     "output_type": "stream",
     "text": [
      "\n"
     ]
    }
   ],
   "source": [
    "import csv\n",
    "MEASUREMENT_ID = 0\n",
    "SRC_IP = 1\n",
    "DST_IP = 2\n",
    "BYTES = 3\n",
    "TIMES = 4\n",
    "\n",
    "matrix = {}\n",
    "\n",
    "dst_probe_not_found_cnt = 0\n",
    "dst_probe_mismatch_cnt = 0\n",
    "# Read the CSV file\n",
    "with open('ping_stats_only_US.csv', 'r') as csvfile:\n",
    "    reader = csv.reader(csvfile)\n",
    "    next(reader)\n",
    "    # count = 0\n",
    "    for row in tqdm(reader):\n",
    "        try:\n",
    "            # if count % 10000 == 0:\n",
    "            #     print(f\"Processed {count} rows\")\n",
    "            # count += 1\n",
    "            measurement_id = row[MEASUREMENT_ID]\n",
    "            src_ip = row[SRC_IP]\n",
    "            dst_ip = row[DST_IP]\n",
    "            latency = float(row[TIMES])\n",
    "            bytes_transferred = float(row[BYTES].split()[0])\n",
    "\n",
    "            # dst_probe = ip_probes_mapping.get(dst_ip, None)\n",
    "            # if dst_probe is None:\n",
    "            #     dst_probe_not_found_cnt += 1\n",
    "            #     continue\n",
    "\n",
    "            one_way_latency = latency / 2 # not normalizing for number of bytes and considering only one way\n",
    "            # Add latency to the matrix\n",
    "            if src_ip not in matrix:\n",
    "                matrix[src_ip] = {}\n",
    "            if dst_ip not in matrix[src_ip]:\n",
    "                matrix[src_ip][dst_ip] = []\n",
    "            matrix[src_ip][dst_ip].append(one_way_latency) \n",
    "\n",
    "            if dst_ip not in matrix:\n",
    "                matrix[dst_ip] = {}\n",
    "            if src_ip not in matrix[dst_ip]:\n",
    "                matrix[dst_ip][src_ip] = []\n",
    "            matrix[dst_ip][src_ip].append(one_way_latency)\n",
    "        except Exception as e:\n",
    "            print(f\"Error processing row: {row} (Error: {e})\")\n",
    "\n",
    "print(f\"dst_probe_not_found_cnt: {dst_probe_not_found_cnt}\")\n"
   ]
  },
  {
   "cell_type": "code",
   "execution_count": 18,
   "metadata": {},
   "outputs": [
    {
     "data": {
      "text/plain": [
       "16756"
      ]
     },
     "execution_count": 18,
     "metadata": {},
     "output_type": "execute_result"
    }
   ],
   "source": [
    "len(matrix.keys())"
   ]
  },
  {
   "cell_type": "code",
   "execution_count": 20,
   "metadata": {},
   "outputs": [
    {
     "name": "stdout",
     "output_type": "stream",
     "text": [
      "Number of probes: 16756\n"
     ]
    },
    {
     "name": "stderr",
     "output_type": "stream",
     "text": [
      "16756it [00:56, 295.44it/s]\n"
     ]
    },
    {
     "name": "stdout",
     "output_type": "stream",
     "text": [
      "The square matrix has been written to ping_matrix_only_US.csv\n"
     ]
    }
   ],
   "source": [
    "import math\n",
    "# Get a set of all unique probe IDs\n",
    "all_probes = set(matrix.keys())\n",
    "print(f\"Number of probes: {len(all_probes)}\")\n",
    "\n",
    "probe_list = sorted(all_probes)\n",
    "\n",
    "# Create the square matrix\n",
    "matrix_size = len(probe_list)\n",
    "\n",
    "square_matrix = [['-'] * (matrix_size + 1) for _ in range(matrix_size + 1)]\n",
    "square_matrix[0][0] = 'Probe'\n",
    "\n",
    "# Fill the square matrix with probe IDs\n",
    "for i, probe_id in enumerate(probe_list):\n",
    "    square_matrix[0][i+1] = probe_id\n",
    "    square_matrix[i+1][0] = probe_id\n",
    "\n",
    "for i, src_probe in tqdm(enumerate(probe_list)):\n",
    "    for j, dst_probe in enumerate(probe_list):\n",
    "        if src_probe == dst_probe:\n",
    "            square_matrix[i+1][j+1] = 0\n",
    "        elif src_probe in matrix and dst_probe in matrix[src_probe]:\n",
    "            square_matrix[i+1][j+1] = sum(matrix[src_probe][dst_probe])/len(matrix[src_probe][dst_probe])\n",
    "        else:\n",
    "            square_matrix[i+1][j+1] = math.inf\n",
    "\n",
    "output_file = 'ping_matrix_only_US.csv'\n",
    "with open(output_file, 'w', newline='') as csvfile:\n",
    "    writer = csv.writer(csvfile)\n",
    "    writer.writerows(square_matrix)\n",
    "\n",
    "print(f\"The square matrix has been written to {output_file}\")"
   ]
  },
  {
   "cell_type": "code",
   "execution_count": 38,
   "metadata": {},
   "outputs": [],
   "source": [
    "probe_list = probe_list[1:] # to eliminate ''"
   ]
  },
  {
   "cell_type": "code",
   "execution_count": 39,
   "metadata": {},
   "outputs": [
    {
     "data": {
      "text/plain": [
       "16755"
      ]
     },
     "execution_count": 39,
     "metadata": {},
     "output_type": "execute_result"
    }
   ],
   "source": [
    "len(probe_list)"
   ]
  },
  {
   "cell_type": "code",
   "execution_count": 4,
   "metadata": {},
   "outputs": [],
   "source": [
    "import csv\n",
    "input_file = 'ping_matrix_only_US.csv'\n",
    "square_matrix = []\n",
    "\n",
    "with open(input_file, 'r') as csvfile:\n",
    "    reader = csv.reader(csvfile)\n",
    "    for row in reader:\n",
    "        square_matrix.append(row)"
   ]
  },
  {
   "cell_type": "code",
   "execution_count": 6,
   "metadata": {},
   "outputs": [],
   "source": [
    "probe_list = square_matrix[0][1:]\n"
   ]
  },
  {
   "cell_type": "code",
   "execution_count": 7,
   "metadata": {},
   "outputs": [
    {
     "data": {
      "text/plain": [
       "16756"
      ]
     },
     "execution_count": 7,
     "metadata": {},
     "output_type": "execute_result"
    }
   ],
   "source": [
    "len(probe_list)"
   ]
  },
  {
   "cell_type": "code",
   "execution_count": 12,
   "metadata": {},
   "outputs": [
    {
     "data": {
      "text/plain": [
       "['142.251.167.128', '142.251.208.112']"
      ]
     },
     "execution_count": 12,
     "metadata": {},
     "output_type": "execute_result"
    }
   ],
   "source": [
    "probe_list[1873:1875]"
   ]
  },
  {
   "cell_type": "code",
   "execution_count": 20,
   "metadata": {},
   "outputs": [],
   "source": [
    "outer_probe_list = probe_list[1873:5000]"
   ]
  },
  {
   "cell_type": "code",
   "execution_count": 18,
   "metadata": {},
   "outputs": [],
   "source": [
    "from tqdm import tqdm\n",
    "import math"
   ]
  },
  {
   "cell_type": "code",
   "execution_count": 21,
   "metadata": {},
   "outputs": [
    {
     "name": "stderr",
     "output_type": "stream",
     "text": [
      " 71%|███████   | 2223/3127 [21:05:07<8:37:58, 34.38s/it]   "
     ]
    }
   ],
   "source": [
    "with open('ping_analysis_result_1873_onwards.csv', 'w', newline='') as f:\n",
    "    writer = csv.writer(f)\n",
    "    for i, src_probe in enumerate(tqdm(outer_probe_list)):\n",
    "        for j, dst_probe in enumerate(probe_list):\n",
    "            if i == j:\n",
    "                continue\n",
    "            for k, mid_probe in enumerate(probe_list):\n",
    "                if k == i or k == j:\n",
    "                    continue\n",
    "                if square_matrix[i+1][k+1] == 'inf' or square_matrix[k+1][j+1] == 'inf':\n",
    "                    continue\n",
    "                src_mid_latency = square_matrix[i+1][k+1]\n",
    "                mid_dst_latency = square_matrix[k+1][j+1]\n",
    "                src_dst_latency = square_matrix[i+1][j+1]\n",
    "                if src_mid_latency + mid_dst_latency < src_dst_latency:\n",
    "                    # print(f\"{src_probe}, {mid_probe}, {dst_probe}, {src_mid_latency}, {mid_dst_latency}, {src_dst_latency}\")\n",
    "                    writer.writerow([src_probe, mid_probe, dst_probe, src_mid_latency, mid_dst_latency, src_dst_latency])"
   ]
  },
  {
   "cell_type": "code",
   "execution_count": null,
   "metadata": {},
   "outputs": [],
   "source": []
  }
 ],
 "metadata": {
  "kernelspec": {
   "display_name": "Python 3.11.3 ('venv': venv)",
   "language": "python",
   "name": "python3"
  },
  "language_info": {
   "codemirror_mode": {
    "name": "ipython",
    "version": 3
   },
   "file_extension": ".py",
   "mimetype": "text/x-python",
   "name": "python",
   "nbconvert_exporter": "python",
   "pygments_lexer": "ipython3",
   "version": "3.11.3"
  },
  "orig_nbformat": 4,
  "vscode": {
   "interpreter": {
    "hash": "93972304b0ba7dc9d1bfb7df9e633ec53f053da0028f9c89b5253b2798d765a7"
   }
  }
 },
 "nbformat": 4,
 "nbformat_minor": 2
}
