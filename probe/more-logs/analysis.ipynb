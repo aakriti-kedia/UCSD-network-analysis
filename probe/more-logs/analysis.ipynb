{
 "cells": [
  {
   "cell_type": "code",
   "execution_count": 1,
   "metadata": {},
   "outputs": [],
   "source": [
    "import pandas as pd\n",
    "import numpy as np\n",
    "import matplotlib.pyplot as plt"
   ]
  },
  {
   "cell_type": "code",
   "execution_count": 7,
   "metadata": {},
   "outputs": [],
   "source": [
    "raw_data_csv = 'output.csv'\n",
    "cleaned_data_csv = 'cleaned_output.csv'\n",
    "outliers_data_csv = 'outliers_output.csv'"
   ]
  },
  {
   "cell_type": "code",
   "execution_count": 8,
   "metadata": {},
   "outputs": [
    {
     "name": "stdout",
     "output_type": "stream",
     "text": [
      "Cleaned Data:\n",
      "        Date     From                         From IP       To  \\\n",
      "50  6/3/2023  ping_CA  Unknown (IP of mobile hotspot)  Unknown   \n",
      "51  6/3/2023  ping_CA  Unknown (IP of mobile hotspot)  Unknown   \n",
      "52  6/3/2023  ping_CA  Unknown (IP of mobile hotspot)  Unknown   \n",
      "53  6/3/2023  ping_CA  Unknown (IP of mobile hotspot)  Unknown   \n",
      "55  6/3/2023  ping_CA  Unknown (IP of mobile hotspot)  Unknown   \n",
      "..       ...      ...                             ...      ...   \n",
      "42  6/3/2023  ping_CB  Unknown (IP of mobile hotspot)  Unknown   \n",
      "45  6/3/2023  ping_CB  Unknown (IP of mobile hotspot)  Unknown   \n",
      "46  6/3/2023  ping_CB  Unknown (IP of mobile hotspot)  Unknown   \n",
      "47  6/3/2023  ping_CB  Unknown (IP of mobile hotspot)  Unknown   \n",
      "49  6/3/2023  ping_CB  Unknown (IP of mobile hotspot)  Unknown   \n",
      "\n",
      "             To_IP  Ping Time  TTL  \n",
      "50   128.54.70.238    179.225   43  \n",
      "51   128.54.70.238     55.004   43  \n",
      "52   128.54.70.238     90.702   43  \n",
      "53   128.54.70.238    387.719   43  \n",
      "55   128.54.70.238     49.444   43  \n",
      "..             ...        ...  ...  \n",
      "42  107.77.227.186     52.847   50  \n",
      "45  107.77.227.186     26.895   50  \n",
      "46  107.77.227.186     41.227   50  \n",
      "47  107.77.227.186    153.193   50  \n",
      "49  107.77.227.186     60.295   50  \n",
      "\n",
      "[89 rows x 7 columns]\n",
      "Outliers:\n",
      "        Date     From                         From IP       To  \\\n",
      "54  6/3/2023  ping_CA  Unknown (IP of mobile hotspot)  Unknown   \n",
      "61  6/3/2023  ping_CA  Unknown (IP of mobile hotspot)  Unknown   \n",
      "70  6/3/2023  ping_CA  Unknown (IP of mobile hotspot)  Unknown   \n",
      "71  6/3/2023  ping_CA  Unknown (IP of mobile hotspot)  Unknown   \n",
      "92  6/3/2023  ping_CA  Unknown (IP of mobile hotspot)  Unknown   \n",
      "23  6/3/2023  ping_CB  Unknown (IP of mobile hotspot)  Unknown   \n",
      "29  6/3/2023  ping_CB  Unknown (IP of mobile hotspot)  Unknown   \n",
      "36  6/3/2023  ping_CB  Unknown (IP of mobile hotspot)  Unknown   \n",
      "43  6/3/2023  ping_CB  Unknown (IP of mobile hotspot)  Unknown   \n",
      "44  6/3/2023  ping_CB  Unknown (IP of mobile hotspot)  Unknown   \n",
      "48  6/3/2023  ping_CB  Unknown (IP of mobile hotspot)  Unknown   \n",
      "\n",
      "             To_IP  Ping Time  TTL  \n",
      "54   128.54.70.238    727.115   43  \n",
      "61   128.54.70.238   1011.711   43  \n",
      "70   128.54.70.238   1010.678   43  \n",
      "71   128.54.70.238   1011.151   43  \n",
      "92   128.54.70.238   1010.693   43  \n",
      "23  107.77.227.186    625.881   50  \n",
      "29  107.77.227.186   1009.628   50  \n",
      "36  107.77.227.186    310.505   50  \n",
      "43  107.77.227.186    537.503   50  \n",
      "44  107.77.227.186    630.885   50  \n",
      "48  107.77.227.186    533.556   50  \n"
     ]
    }
   ],
   "source": [
    "#\n",
    "# clean the data\n",
    "#\n",
    "\n",
    "# Read the CSV file into a DataFrame\n",
    "df = pd.read_csv(raw_data_csv)\n",
    "\n",
    "# Convert the 'Ping Time' column to numeric data type\n",
    "df['Ping Time'] = pd.to_numeric(df['Ping Time'], errors='coerce')\n",
    "\n",
    "# Group the data by 'From' column\n",
    "groups = df.groupby('From')\n",
    "\n",
    "# Define a function to clean the data for each group\n",
    "def clean_outliers(group):\n",
    "    # Calculate the first quartile (Q1) and third quartile (Q3)\n",
    "    Q1 = group['Ping Time'].quantile(0.25)\n",
    "    Q3 = group['Ping Time'].quantile(0.75)\n",
    "\n",
    "    # Calculate the interquartile range (IQR)\n",
    "    IQR = Q3 - Q1\n",
    "\n",
    "    # Calculate the lower and upper bounds for outliers\n",
    "    lower_bound = Q1 - (1.5 * IQR)\n",
    "    upper_bound = Q3 + (1.5 * IQR)\n",
    "\n",
    "    # Identify the rows with 'Ping Time' values outside the bounds\n",
    "    outliers = group[(group['Ping Time'] < lower_bound) | (group['Ping Time'] > upper_bound)]\n",
    "\n",
    "    # Remove the rows with outliers\n",
    "    cleaned_group = group[(group['Ping Time'] >= lower_bound) & (group['Ping Time'] <= upper_bound)]\n",
    "\n",
    "    return cleaned_group, outliers\n",
    "\n",
    "# Create empty DataFrames to store the cleaned data and outliers\n",
    "cleaned_data = pd.DataFrame()\n",
    "outliers_data = pd.DataFrame()\n",
    "\n",
    "# Iterate over each group, clean the data, and append to the respective DataFrames\n",
    "for name, group in groups:\n",
    "    cleaned_group, outliers = clean_outliers(group)\n",
    "    cleaned_data = cleaned_data.append(cleaned_group)\n",
    "    outliers_data = outliers_data.append(outliers)\n",
    "\n",
    "# Save the cleaned data and outliers to separate CSV files\n",
    "cleaned_data.to_csv(cleaned_data_csv, index=False)\n",
    "outliers_data.to_csv(outliers_data_csv, index=False)\n"
   ]
  },
  {
   "cell_type": "code",
   "execution_count": 19,
   "metadata": {},
   "outputs": [
    {
     "data": {
      "image/png": "[encoded data removed]",
      "text/plain": [
       "<Figure size 432x288 with 1 Axes>"
      ]
     },
     "metadata": {
      "needs_background": "dark"
     },
     "output_type": "display_data"
    },
    {
     "data": {
      "image/png": "[encoded data removed]",
      "text/plain": [
       "<Figure size 432x288 with 1 Axes>"
      ]
     },
     "metadata": {
      "needs_background": "dark"
     },
     "output_type": "display_data"
    }
   ],
   "source": [
    "#\n",
    "# Graph the clean data\n",
    "#\n",
    "\n",
    "# Read the CSV file\n",
    "data = pd.read_csv(cleaned_data_csv)\n",
    "\n",
    "# Group the data by 'From'\n",
    "grouped_data = data.groupby('From')\n",
    "\n",
    "x_min = 0\n",
    "x_max = 450\n",
    "bin_size = 25\n",
    "# Plot separate histograms for each group\n",
    "for group_name, group_data in grouped_data:\n",
    "    # Extract the 'Ping Time' column for the current group\n",
    "    ping_times = group_data['Ping Time']\n",
    "    \n",
    "    # Plot the histogram for the current group\n",
    "    plt.hist(ping_times, bins=range(x_min, x_max + bin_size, bin_size))\n",
    "    plt.xlabel('Ping Time', color='white')\n",
    "    plt.ylabel('Frequency', color='white')\n",
    "    plt.title(f'Distribution of Ping Time ({group_name})', color='white')\n",
    "    plt.tick_params(colors='white')\n",
    "    plt.gca().xaxis.set_tick_params(color='white')\n",
    "    plt.gca().yaxis.set_tick_params(color='white')\n",
    "    plt.xlim(x_min, x_max)  # Set the x-axis limits\n",
    "    plt.show()\n"
   ]
  },
  {
   "cell_type": "code",
   "execution_count": null,
   "metadata": {},
   "outputs": [],
   "source": []
  }
 ],
 "metadata": {
  "kernelspec": {
   "display_name": "Python 3",
   "language": "python",
   "name": "python3"
  },
  "language_info": {
   "codemirror_mode": {
    "name": "ipython",
    "version": 3
   },
   "file_extension": ".py",
   "mimetype": "text/x-python",
   "name": "python",
   "nbconvert_exporter": "python",
   "pygments_lexer": "ipython3",
   "version": "3.9.7"
  },
  "orig_nbformat": 4
 },
 "nbformat": 4,
 "nbformat_minor": 2
}
